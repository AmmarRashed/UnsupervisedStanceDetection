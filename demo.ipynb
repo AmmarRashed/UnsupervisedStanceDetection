{
 "cells": [
  {
   "cell_type": "markdown",
   "metadata": {},
   "source": [
    "# Preprocessing\n",
    "- Remove URLs and Mentions\n",
    "- Separate composite camel case words (e.g. BlackLives --> black lives)\n",
    "- Remove non-alphanumeric characters\n",
    "- Replace numbers with the token \"_number_\"\n",
    "- Lowercase everything"
   ]
  },
  {
   "cell_type": "code",
   "execution_count": 1,
   "metadata": {
    "ExecuteTime": {
     "end_time": "2020-06-07T23:45:10.994786Z",
     "start_time": "2020-06-07T23:45:10.990361Z"
    }
   },
   "outputs": [],
   "source": [
    "from src.preprocessing import clean"
   ]
  },
  {
   "cell_type": "code",
   "execution_count": 3,
   "metadata": {
    "ExecuteTime": {
     "end_time": "2020-06-07T23:46:12.708646Z",
     "start_time": "2020-06-07T23:46:12.680332Z"
    }
   },
   "outputs": [
    {
     "data": {
      "text/plain": [
       "'black lives matter'"
      ]
     },
     "execution_count": 3,
     "metadata": {},
     "output_type": "execute_result"
    }
   ],
   "source": [
    "clean(\"#BlackLivesMatter https://www.google.com/ @realDonaldTrump\")"
   ]
  },
  {
   "cell_type": "markdown",
   "metadata": {},
   "source": [
    "# Encoding\n",
    "## Universal Sentence Encoder"
   ]
  },
  {
   "cell_type": "code",
   "execution_count": 1,
   "metadata": {
    "ExecuteTime": {
     "end_time": "2020-06-07T23:55:34.962132Z",
     "start_time": "2020-06-07T23:55:33.625304Z"
    }
   },
   "outputs": [],
   "source": [
    "from src.encoder import Encoder"
   ]
  },
  {
   "cell_type": "code",
   "execution_count": 2,
   "metadata": {
    "ExecuteTime": {
     "end_time": "2020-06-07T23:55:40.034473Z",
     "start_time": "2020-06-07T23:55:37.473873Z"
    }
   },
   "outputs": [],
   "source": [
    "# default encoder is USE for English only.\n",
    "# But you can use multilingual as well, like ...\n",
    "encoder = Encoder(model_url=\"https://tfhub.dev/google/universal-sentence-encoder-multilingual/3\")"
   ]
  },
  {
   "cell_type": "code",
   "execution_count": 5,
   "metadata": {
    "ExecuteTime": {
     "end_time": "2020-06-07T23:55:57.481777Z",
     "start_time": "2020-06-07T23:55:57.448134Z"
    }
   },
   "outputs": [
    {
     "data": {
      "text/plain": [
       "array([[ 9.02929604e-02,  2.53139641e-02, -8.63993599e-04,\n",
       "         3.37017924e-02, -6.26476333e-02, -4.42366041e-02,\n",
       "         2.18325537e-02,  5.37963435e-02, -8.38939548e-02,\n",
       "        -9.51755140e-03, -3.12121455e-02, -5.35302460e-02,\n",
       "        -4.03429270e-02, -6.45988435e-02, -4.22783829e-02,\n",
       "         6.87545631e-03,  2.68412735e-02,  1.69232395e-02,\n",
       "         4.52055521e-02, -7.21441209e-02,  7.80028552e-02,\n",
       "         7.60580525e-02, -4.91863601e-02, -3.33283916e-02,\n",
       "        -6.48475764e-03,  5.31073436e-02,  5.94470128e-02,\n",
       "         4.97598015e-02, -5.83836809e-02,  4.62118129e-04,\n",
       "        -2.54417248e-02, -4.07968946e-02,  2.24085082e-03,\n",
       "        -5.71764819e-02,  3.96157652e-02, -5.56416325e-02,\n",
       "         1.06351763e-01, -2.11038422e-02, -4.97004427e-02,\n",
       "         1.37671484e-02,  2.52124630e-02,  6.93862326e-03,\n",
       "        -8.78239796e-03, -4.25839275e-02, -7.41932988e-02,\n",
       "         3.93395983e-02, -5.14756478e-02, -4.80900072e-02,\n",
       "         2.03796737e-02,  4.60575111e-02, -5.39578963e-03,\n",
       "         5.13799861e-02,  4.98849079e-02, -1.53071098e-02,\n",
       "        -2.55209878e-02, -9.37783793e-02,  6.80431351e-02,\n",
       "         5.42037040e-02,  5.88915544e-03,  3.77027579e-02,\n",
       "         2.97001610e-03, -2.73854788e-02, -2.25164257e-02,\n",
       "         2.94775404e-02, -4.49141003e-02, -1.22707179e-02,\n",
       "         3.51123661e-02, -9.62661114e-03, -4.74585360e-03,\n",
       "        -6.34014159e-02,  2.71070562e-02, -8.06257129e-03,\n",
       "        -6.70747459e-02, -5.07746078e-02, -4.76036221e-02,\n",
       "         7.18707684e-03,  3.65909301e-02, -3.67699936e-02,\n",
       "         3.70868184e-02,  1.12690397e-01, -1.10753492e-01,\n",
       "         1.88780073e-02,  6.59464002e-02,  4.53360453e-02,\n",
       "         5.63650019e-02,  4.43356484e-02,  1.30171627e-02,\n",
       "        -2.71456428e-02, -2.89043244e-02,  1.64611451e-02,\n",
       "        -1.92087479e-02, -5.28771989e-02, -6.49906620e-02,\n",
       "         3.41170616e-02, -1.70326754e-02, -3.64219025e-02,\n",
       "        -6.40340447e-02, -4.20621075e-02,  5.49546070e-02,\n",
       "        -2.71569863e-02,  1.50894774e-02, -8.34458917e-02,\n",
       "         8.04520994e-02, -1.96695887e-02, -1.00700237e-01,\n",
       "        -4.36882209e-03,  3.58170122e-02, -6.73646182e-02,\n",
       "        -3.49581279e-02, -3.14205624e-02, -3.03178281e-02,\n",
       "         4.55205292e-02, -4.74548228e-02, -3.40684615e-02,\n",
       "         1.98236890e-02,  2.36651860e-02, -2.66083088e-02,\n",
       "        -7.57225677e-02, -1.35216266e-02, -1.82724686e-03,\n",
       "         2.93097384e-02, -3.48166339e-02,  2.47215275e-02,\n",
       "         3.22892033e-02,  2.67713480e-02, -5.79769351e-02,\n",
       "        -2.56844629e-02,  8.45318958e-02, -2.28709877e-02,\n",
       "        -9.08638537e-03,  1.39732165e-02,  2.45238561e-02,\n",
       "         3.46098132e-02,  5.28965704e-02, -7.04566389e-02,\n",
       "        -4.86870706e-02,  2.34722588e-02,  2.37552300e-02,\n",
       "        -5.92066869e-02,  8.27051178e-02, -4.00973856e-03,\n",
       "        -3.28391939e-02, -6.41322583e-02,  5.77677647e-03,\n",
       "        -8.03356245e-02,  2.29892787e-02, -9.79695190e-03,\n",
       "        -6.78975321e-03, -8.75867438e-03, -4.90265042e-02,\n",
       "         2.29285266e-02, -4.98827323e-02, -1.09793276e-01,\n",
       "        -3.85776274e-02,  4.46549704e-04,  1.88573524e-02,\n",
       "        -5.65416738e-02,  4.27371226e-02, -7.73091055e-03,\n",
       "         9.66695976e-03, -8.21083859e-02,  6.33048778e-03,\n",
       "        -3.02886646e-02,  1.40163992e-02, -5.77669404e-02,\n",
       "         1.12527721e-01, -1.80120803e-02,  2.36992892e-02,\n",
       "        -1.32897524e-02, -2.57620830e-02,  6.66455459e-03,\n",
       "         4.19999138e-02, -4.12883908e-02, -9.73793678e-03,\n",
       "         5.12045547e-02, -4.39418741e-02, -2.89999340e-02,\n",
       "        -3.28261144e-02,  4.97053796e-03, -3.94377932e-02,\n",
       "         7.66094103e-02, -1.74061339e-02, -4.58508246e-02,\n",
       "         2.20106803e-02,  1.01143029e-02,  3.49179357e-02,\n",
       "        -2.76056118e-02,  4.00061607e-02, -3.07031441e-02,\n",
       "        -9.87935532e-03, -3.51552591e-02,  6.12977035e-02,\n",
       "        -1.34940445e-02,  1.69758976e-03, -9.62444022e-03,\n",
       "        -1.15804393e-02,  3.89520489e-02,  8.71613845e-02,\n",
       "         6.13522753e-02, -3.57693098e-02,  5.38780093e-02,\n",
       "        -9.76623152e-04, -3.23415212e-02,  6.76710904e-02,\n",
       "         9.33619123e-03, -8.11213255e-03,  6.82704076e-02,\n",
       "         5.05042709e-02, -8.47424865e-02, -5.89879490e-02,\n",
       "         7.25789368e-02, -2.18459424e-02,  4.00722250e-02,\n",
       "        -7.63654150e-03,  1.03146099e-02,  5.40494919e-02,\n",
       "         1.61888842e-02,  4.32131365e-02,  5.60503006e-02,\n",
       "        -8.37420970e-02, -1.66589953e-02, -1.09322891e-02,\n",
       "         3.10896002e-02,  2.87623964e-02,  7.79771879e-02,\n",
       "        -3.36286873e-02,  7.37195835e-02, -1.33916633e-02,\n",
       "         4.63935211e-02,  6.50074799e-03,  3.98444422e-02,\n",
       "        -3.78602743e-02,  4.35293913e-02, -2.90157180e-02,\n",
       "         1.25429835e-02,  3.68853062e-02, -1.06367087e-02,\n",
       "        -7.20745325e-02, -2.14768406e-02, -5.44496030e-02,\n",
       "        -6.13776930e-02,  1.05972447e-01,  1.43837687e-02,\n",
       "         1.63943495e-03, -7.05509707e-02, -2.42533088e-02,\n",
       "         3.51534374e-02,  1.08488565e-02, -3.42009105e-02,\n",
       "        -6.08277731e-02,  9.20248553e-02,  2.36441251e-02,\n",
       "         6.30925670e-02,  6.67787269e-02, -6.49841651e-02,\n",
       "         3.18379910e-03,  1.96745917e-02, -1.01103224e-02,\n",
       "         1.94480140e-02, -8.43841955e-02, -8.75772089e-02,\n",
       "        -3.86252701e-02,  1.45352371e-02,  9.57477372e-03,\n",
       "        -4.48818831e-03, -3.39164175e-02, -3.36552039e-02,\n",
       "        -1.33386850e-02, -1.90982111e-02,  4.97365110e-02,\n",
       "         2.88681649e-02,  5.77684073e-03, -7.05776513e-02,\n",
       "         6.44142255e-02,  6.41829073e-02, -5.80542684e-02,\n",
       "        -2.47256700e-02, -8.52649808e-02,  1.60062127e-02,\n",
       "        -1.22919763e-02,  2.45415065e-02,  1.95066840e-03,\n",
       "        -1.10592833e-02,  1.55704357e-02,  1.52007127e-02,\n",
       "        -4.29791175e-02, -3.13911252e-02, -2.85093561e-02,\n",
       "        -3.46784219e-02,  1.07909925e-02, -5.69052845e-02,\n",
       "        -6.56142086e-02, -2.42444035e-03, -2.36847496e-04,\n",
       "        -2.00943090e-02, -1.87727269e-02,  2.44390406e-02,\n",
       "        -3.73762026e-02, -4.07696702e-02,  6.48761019e-02,\n",
       "         3.38231586e-02,  6.30460605e-02,  5.82951354e-03,\n",
       "        -2.62612291e-02,  6.19867910e-03, -2.10380126e-02,\n",
       "         1.71352222e-04,  1.86081007e-02,  4.34052311e-02,\n",
       "        -4.80737984e-02,  6.99277669e-02,  4.66579907e-02,\n",
       "        -1.48551473e-02,  3.29916701e-02, -9.36777145e-03,\n",
       "         7.43718967e-02, -5.12492396e-02, -6.02555387e-02,\n",
       "        -6.58557117e-02, -3.25691588e-02, -9.58766192e-02,\n",
       "         5.89718446e-02, -9.34590474e-02, -2.11967360e-02,\n",
       "        -5.53228594e-02,  7.27902120e-03, -5.82117960e-03,\n",
       "         1.51520390e-02,  3.10048033e-02,  2.35684924e-02,\n",
       "        -1.24157164e-02, -3.03980522e-02, -1.04722142e-01,\n",
       "         1.43642910e-02,  4.62585362e-03, -7.37912394e-03,\n",
       "        -5.35621382e-02,  3.15730758e-02, -8.77389833e-02,\n",
       "         5.22329099e-02, -9.48735885e-03,  4.54171449e-02,\n",
       "        -8.38277936e-02, -3.25404741e-02,  7.16998801e-03,\n",
       "         6.80265725e-02, -2.07673144e-02, -4.05646153e-02,\n",
       "         1.34903835e-02,  3.22747529e-02, -4.12309058e-02,\n",
       "         2.79887812e-03,  7.98721611e-03,  6.17843941e-02,\n",
       "         4.60151024e-03,  9.92045365e-03,  5.00864871e-02,\n",
       "        -5.63305654e-02, -3.88379730e-02,  3.02622397e-03,\n",
       "         2.20519323e-02,  1.54148676e-02,  4.85269316e-02,\n",
       "        -5.63364588e-02, -3.73017862e-02, -3.11127473e-02,\n",
       "         1.61838830e-02, -6.77759647e-02, -9.11579654e-02,\n",
       "         4.67085131e-02, -4.00679782e-02, -3.72959077e-02,\n",
       "        -3.94075289e-02, -1.12072146e-02,  1.26367714e-02,\n",
       "         4.40460369e-02, -7.77020901e-02, -2.46636514e-02,\n",
       "        -1.49408458e-02,  5.86274220e-03, -7.11899400e-02,\n",
       "        -1.15099251e-02,  3.33920382e-02,  5.09477453e-03,\n",
       "         1.51081178e-02,  1.04949502e-02, -5.80682866e-02,\n",
       "        -3.40924747e-02, -3.48201320e-02,  2.49468200e-02,\n",
       "         4.42005768e-02, -2.37165336e-02,  3.79255484e-03,\n",
       "        -8.86938721e-02, -1.56422518e-02,  4.10543345e-02,\n",
       "         4.47053164e-02,  5.43537475e-02,  5.49245300e-03,\n",
       "         7.09640309e-02,  1.93180814e-02, -3.05815432e-02,\n",
       "        -6.89341733e-03, -3.62095423e-02, -3.08503956e-03,\n",
       "         6.30579367e-02,  4.35884781e-02,  1.84933823e-02,\n",
       "        -7.83578958e-03,  2.59191096e-02, -5.52807143e-03,\n",
       "        -4.72284009e-05,  2.06883010e-02, -1.38790896e-02,\n",
       "         5.72590455e-02,  3.44927758e-02,  2.15114728e-02,\n",
       "         2.95498725e-02, -5.41498102e-02, -8.79013725e-03,\n",
       "         7.38454312e-02,  1.96587350e-02,  1.34385750e-02,\n",
       "        -5.90348169e-02, -5.32622188e-02,  3.93599793e-02,\n",
       "        -4.86550853e-02, -3.91548872e-02,  4.74032760e-02,\n",
       "         1.50756622e-02,  6.87927082e-02, -3.02066337e-02,\n",
       "        -2.66485778e-03, -2.01581307e-02,  5.31393997e-02,\n",
       "         1.00522246e-02, -1.83966588e-02, -4.26581167e-02,\n",
       "        -2.71374499e-03,  9.05769784e-03, -4.29850779e-02,\n",
       "        -1.37065900e-02, -6.19315952e-02, -6.49061725e-02,\n",
       "         4.96972874e-02, -9.45900939e-03,  7.37345219e-02,\n",
       "         5.60122356e-02, -2.91699544e-02, -1.58697236e-02,\n",
       "        -6.30429089e-02,  4.82642651e-02,  5.28050645e-04,\n",
       "         3.94601114e-02, -7.31267557e-02,  3.35745700e-02,\n",
       "         2.48057507e-02, -4.80459072e-02, -1.18432520e-02,\n",
       "        -4.43868563e-02,  3.98386568e-02, -5.34126982e-02,\n",
       "         5.74409105e-02,  1.32571915e-02, -2.18527261e-02,\n",
       "         1.10984361e-02, -1.16096223e-02,  6.81838691e-02,\n",
       "         3.42932194e-02, -8.47309604e-02, -4.01029214e-02,\n",
       "        -3.77797745e-02, -6.41229227e-02,  3.81232128e-02,\n",
       "         2.52712779e-02,  1.10559305e-02,  9.84640513e-03,\n",
       "        -1.20055480e-02, -9.66666546e-03, -5.53334281e-02,\n",
       "         2.41286773e-02,  1.00961186e-01, -1.27077922e-02,\n",
       "        -4.23806421e-02, -1.07549950e-02, -3.54763754e-02,\n",
       "         5.58016337e-02, -7.87500739e-02, -3.64025608e-02,\n",
       "        -2.90403571e-02,  5.37508540e-02, -2.00727507e-02,\n",
       "         3.00442167e-02,  3.45369503e-02, -3.68632935e-02,\n",
       "         1.22389954e-03, -6.67770281e-02,  2.16749627e-02,\n",
       "         3.61376889e-02, -4.56607640e-02,  2.02212632e-02,\n",
       "         4.63767387e-02, -4.86524552e-02,  5.23989350e-02,\n",
       "         1.38630597e-02,  5.03290556e-02,  5.27634881e-02,\n",
       "        -3.88095379e-02, -1.34635530e-02, -7.79085681e-02,\n",
       "         1.63281877e-02, -7.12259766e-03]], dtype=float32)"
      ]
     },
     "execution_count": 5,
     "metadata": {},
     "output_type": "execute_result"
    }
   ],
   "source": [
    "encoder.encode(\"hello world\")"
   ]
  },
  {
   "cell_type": "code",
   "execution_count": 10,
   "metadata": {
    "ExecuteTime": {
     "end_time": "2020-06-07T23:58:33.082587Z",
     "start_time": "2020-06-07T23:58:33.053011Z"
    }
   },
   "outputs": [
    {
     "data": {
      "text/html": [
       "<div>\n",
       "<style scoped>\n",
       "    .dataframe tbody tr th:only-of-type {\n",
       "        vertical-align: middle;\n",
       "    }\n",
       "\n",
       "    .dataframe tbody tr th {\n",
       "        vertical-align: top;\n",
       "    }\n",
       "\n",
       "    .dataframe thead th {\n",
       "        text-align: right;\n",
       "    }\n",
       "</style>\n",
       "<table border=\"1\" class=\"dataframe\">\n",
       "  <thead>\n",
       "    <tr style=\"text-align: right;\">\n",
       "      <th></th>\n",
       "      <th>username</th>\n",
       "      <th>text</th>\n",
       "    </tr>\n",
       "  </thead>\n",
       "  <tbody>\n",
       "    <tr>\n",
       "      <th>0</th>\n",
       "      <td>user1</td>\n",
       "      <td>hello world</td>\n",
       "    </tr>\n",
       "    <tr>\n",
       "      <th>1</th>\n",
       "      <td>user1</td>\n",
       "      <td>merhaba dunya</td>\n",
       "    </tr>\n",
       "    <tr>\n",
       "      <th>2</th>\n",
       "      <td>user2</td>\n",
       "      <td>Bonjour le monde</td>\n",
       "    </tr>\n",
       "    <tr>\n",
       "      <th>3</th>\n",
       "      <td>user2</td>\n",
       "      <td>مرحبا بالعالم</td>\n",
       "    </tr>\n",
       "  </tbody>\n",
       "</table>\n",
       "</div>"
      ],
      "text/plain": [
       "  username              text\n",
       "0    user1       hello world\n",
       "1    user1     merhaba dunya\n",
       "2    user2  Bonjour le monde\n",
       "3    user2     مرحبا بالعالم"
      ]
     },
     "execution_count": 10,
     "metadata": {},
     "output_type": "execute_result"
    }
   ],
   "source": [
    "import pandas as pd\n",
    "\n",
    "df = pd.DataFrame({\n",
    "    \"username\":[\"user1\", \"user1\", \"user2\", \"user2\"],\n",
    "    \"text\": [\"hello world\", \"merhaba dunya\", \"Bonjour le monde\", \"مرحبا بالعالم\"]\n",
    "})\n",
    "df"
   ]
  },
  {
   "cell_type": "code",
   "execution_count": 11,
   "metadata": {
    "ExecuteTime": {
     "end_time": "2020-06-07T23:59:26.926654Z",
     "start_time": "2020-06-07T23:59:26.886003Z"
    }
   },
   "outputs": [
    {
     "name": "stderr",
     "output_type": "stream",
     "text": [
      "100%|██████████| 2/2 [00:00<00:00, 95.93it/s]\n"
     ]
    }
   ],
   "source": [
    "encoder.encode_df(df, user_col=\"username\", text_col=\"text\", out_path=\"demo.npz\")"
   ]
  },
  {
   "cell_type": "code",
   "execution_count": 12,
   "metadata": {
    "ExecuteTime": {
     "end_time": "2020-06-07T23:59:38.423912Z",
     "start_time": "2020-06-07T23:59:38.418479Z"
    }
   },
   "outputs": [
    {
     "data": {
      "text/plain": [
       "array(['user1', 'user2'], dtype='<U5')"
      ]
     },
     "execution_count": 12,
     "metadata": {},
     "output_type": "execute_result"
    }
   ],
   "source": [
    "f = np.load(\"demo.npz\")\n",
    "f[\"users\"]"
   ]
  },
  {
   "cell_type": "code",
   "execution_count": 13,
   "metadata": {
    "ExecuteTime": {
     "end_time": "2020-06-07T23:59:42.624482Z",
     "start_time": "2020-06-07T23:59:42.610824Z"
    }
   },
   "outputs": [
    {
     "data": {
      "text/plain": [
       "array([[ 0.1271717 ,  0.00337878, -0.00207015, ..., -0.03947673,\n",
       "         0.02093398, -0.00205181],\n",
       "       [ 0.07556362, -0.00347732, -0.01797179, ..., -0.0588544 ,\n",
       "         0.02632636, -0.00710142]], dtype=float32)"
      ]
     },
     "execution_count": 13,
     "metadata": {},
     "output_type": "execute_result"
    }
   ],
   "source": [
    "f[\"vectors\"]"
   ]
  },
  {
   "cell_type": "code",
   "execution_count": 14,
   "metadata": {
    "ExecuteTime": {
     "end_time": "2020-06-07T23:59:52.972054Z",
     "start_time": "2020-06-07T23:59:52.959046Z"
    }
   },
   "outputs": [
    {
     "data": {
      "text/plain": [
       "(2, 512)"
      ]
     },
     "execution_count": 14,
     "metadata": {},
     "output_type": "execute_result"
    }
   ],
   "source": [
    "f[\"vectors\"].shape"
   ]
  },
  {
   "cell_type": "markdown",
   "metadata": {},
   "source": [
    "## BERT"
   ]
  },
  {
   "cell_type": "code",
   "execution_count": 15,
   "metadata": {
    "ExecuteTime": {
     "end_time": "2020-06-08T00:00:16.428320Z",
     "start_time": "2020-06-08T00:00:16.423172Z"
    }
   },
   "outputs": [],
   "source": [
    "from src.encoder import EncoderBERT\n",
    "\n",
    "encoder = EncoderBERT(\"roberta-base-nli-stsb-mean-tokens\")\n",
    "\n",
    "# same API"
   ]
  },
  {
   "cell_type": "markdown",
   "metadata": {},
   "source": [
    "# Projection"
   ]
  },
  {
   "cell_type": "code",
   "execution_count": 17,
   "metadata": {
    "ExecuteTime": {
     "end_time": "2020-06-08T00:07:17.361732Z",
     "start_time": "2020-06-08T00:07:17.338281Z"
    }
   },
   "outputs": [],
   "source": [
    "from src.projection import Projector, os"
   ]
  },
  {
   "cell_type": "code",
   "execution_count": 18,
   "metadata": {
    "ExecuteTime": {
     "end_time": "2020-06-08T00:14:15.163004Z",
     "start_time": "2020-06-08T00:14:15.159439Z"
    }
   },
   "outputs": [],
   "source": [
    "projector = Projector(\"election_vectors.npz\")"
   ]
  },
  {
   "cell_type": "code",
   "execution_count": 20,
   "metadata": {
    "ExecuteTime": {
     "end_time": "2020-06-08T00:16:09.544929Z",
     "start_time": "2020-06-08T00:16:09.537875Z"
    }
   },
   "outputs": [],
   "source": [
    "projector.project(\"projections.npz\", min_counts=3, min_dist=0.0, n_neighbors=30)"
   ]
  },
  {
   "cell_type": "code",
   "execution_count": 21,
   "metadata": {
    "ExecuteTime": {
     "end_time": "2020-06-08T00:16:24.565870Z",
     "start_time": "2020-06-08T00:16:24.558409Z"
    }
   },
   "outputs": [],
   "source": [
    "os.makedirs(\"trials\")\n",
    "\n",
    "projector.grid_search(\n",
    "    trials_dir=\"trials\",\n",
    "    min_counts=3, # minimum 3 tweets per user\n",
    "    min_dists_range = [0.0, 0.1, 0.25, 0.5, 0.75, 0.8, 0.9, 0.99],\n",
    "    n_neighbors_range=[20, 30, 40, 50, 60, 70, 80, 90, 100]\n",
    ")"
   ]
  },
  {
   "cell_type": "markdown",
   "metadata": {},
   "source": [
    "# Clustering"
   ]
  },
  {
   "cell_type": "code",
   "execution_count": 25,
   "metadata": {
    "ExecuteTime": {
     "end_time": "2020-06-08T00:19:11.426399Z",
     "start_time": "2020-06-08T00:19:11.420912Z"
    }
   },
   "outputs": [],
   "source": [
    "from src.clustering import Clusterer, pickle"
   ]
  },
  {
   "cell_type": "code",
   "execution_count": 22,
   "metadata": {
    "ExecuteTime": {
     "end_time": "2020-06-08T00:17:49.673292Z",
     "start_time": "2020-06-08T00:17:49.667639Z"
    }
   },
   "outputs": [],
   "source": [
    "clusterer = Clusterer(\"projections.npz\")"
   ]
  },
  {
   "cell_type": "code",
   "execution_count": 34,
   "metadata": {
    "ExecuteTime": {
     "end_time": "2020-06-08T00:21:46.942189Z",
     "start_time": "2020-06-08T00:21:46.174795Z"
    }
   },
   "outputs": [
    {
     "data": {
      "text/plain": [
       "<matplotlib.axes._subplots.AxesSubplot at 0x7fa1bdfd9908>"
      ]
     },
     "execution_count": 34,
     "metadata": {},
     "output_type": "execute_result"
    },
    {
     "data": {
      "image/png": "[encoded data removed]",
      "text/plain": [
       "<Figure size 1080x720 with 2 Axes>"
      ]
     },
     "metadata": {},
     "output_type": "display_data"
    }
   ],
   "source": [
    "clusterer.cluster(tree_path=\"tree.pkl\")\n",
    "\n",
    "clusterer.plot_tree(path=\"tree.pkl\")"
   ]
  },
  {
   "cell_type": "markdown",
   "metadata": {},
   "source": [
    "## Injecting labels"
   ]
  },
  {
   "cell_type": "code",
   "execution_count": 36,
   "metadata": {
    "ExecuteTime": {
     "end_time": "2020-06-08T01:01:34.529613Z",
     "start_time": "2020-06-08T01:01:34.509232Z"
    }
   },
   "outputs": [
    {
     "data": {
      "text/html": [
       "<div>\n",
       "<style scoped>\n",
       "    .dataframe tbody tr th:only-of-type {\n",
       "        vertical-align: middle;\n",
       "    }\n",
       "\n",
       "    .dataframe tbody tr th {\n",
       "        vertical-align: top;\n",
       "    }\n",
       "\n",
       "    .dataframe thead th {\n",
       "        text-align: right;\n",
       "    }\n",
       "</style>\n",
       "<table border=\"1\" class=\"dataframe\">\n",
       "  <thead>\n",
       "    <tr style=\"text-align: right;\">\n",
       "      <th></th>\n",
       "      <th>username</th>\n",
       "      <th>label</th>\n",
       "    </tr>\n",
       "  </thead>\n",
       "  <tbody>\n",
       "    <tr>\n",
       "      <th>0</th>\n",
       "      <td>user1</td>\n",
       "      <td>pro</td>\n",
       "    </tr>\n",
       "    <tr>\n",
       "      <th>1</th>\n",
       "      <td>user2</td>\n",
       "      <td>anti</td>\n",
       "    </tr>\n",
       "  </tbody>\n",
       "</table>\n",
       "</div>"
      ],
      "text/plain": [
       "  username label\n",
       "0    user1   pro\n",
       "1    user2  anti"
      ]
     },
     "execution_count": 36,
     "metadata": {},
     "output_type": "execute_result"
    }
   ],
   "source": [
    "# this is just an example. We are hiding the actual labels of real users here\n",
    "labels = pd.DataFrame({\"username\":[\"user1\", \"user2\"], \"label\":[\"pro\", \"anti\"]})\n",
    "labels"
   ]
  },
  {
   "cell_type": "code",
   "execution_count": 38,
   "metadata": {
    "ExecuteTime": {
     "end_time": "2020-06-08T01:21:09.279291Z",
     "start_time": "2020-06-08T01:21:09.274152Z"
    }
   },
   "outputs": [],
   "source": [
    "clusterer.inject_labels(users=labels.username, labels=labels.label)\n",
    "\n",
    "clusterer.align_clusters_with_labels(\n",
    "    # this means multiple clusters can be assigned the same label\n",
    "    allow_multiple_clusters=True\n",
    ")"
   ]
  },
  {
   "cell_type": "markdown",
   "metadata": {},
   "source": [
    "## Example on Turkish Election dataset"
   ]
  },
  {
   "cell_type": "code",
   "execution_count": 39,
   "metadata": {
    "ExecuteTime": {
     "end_time": "2020-06-08T01:23:28.426960Z",
     "start_time": "2020-06-08T01:23:28.419726Z"
    }
   },
   "outputs": [],
   "source": [
    "clusterer.plot()"
   ]
  },
  {
   "cell_type": "markdown",
   "metadata": {},
   "source": [
    "<img src=\"ed.png\">"
   ]
  },
  {
   "cell_type": "markdown",
   "metadata": {},
   "source": [
    "## Example on Trump dataset"
   ]
  },
  {
   "cell_type": "code",
   "execution_count": 37,
   "metadata": {
    "ExecuteTime": {
     "end_time": "2020-06-08T01:05:41.558112Z",
     "start_time": "2020-06-08T01:05:41.554222Z"
    }
   },
   "outputs": [],
   "source": [
    "# this calculates the micro f1 score for all umap configurations in the grid search\n",
    "# and plots the result of each configuration\n",
    "# then returns the results matrix and a heatmap plot of it\n",
    "results, hm = cluster_projection_grid_search(\n",
    "    \"trials\", users=labels.username, labels=labels.label,\n",
    "    # this means multiple clusters can be assigned the same label\n",
    "    allow_multiple_clusters=True\n",
    ")"
   ]
  },
  {
   "cell_type": "markdown",
   "metadata": {},
   "source": [
    "Example of plotted projections and grid search heatmap\n",
    "<img src=\"trials/hm.png?\">\n",
    "<img src=\"trials/0.0_30.png?\">\n",
    "<img src=\"trials/0.1_60.png?\">"
   ]
  }
 ],
 "metadata": {
  "kernelspec": {
   "display_name": "Python 3",
   "language": "python",
   "name": "python3"
  },
  "language_info": {
   "codemirror_mode": {
    "name": "ipython",
    "version": 3
   },
   "file_extension": ".py",
   "mimetype": "text/x-python",
   "name": "python",
   "nbconvert_exporter": "python",
   "pygments_lexer": "ipython3",
   "version": "3.6.9"
  },
  "toc": {
   "base_numbering": 1,
   "nav_menu": {},
   "number_sections": true,
   "sideBar": true,
   "skip_h1_title": false,
   "title_cell": "Table of Contents",
   "title_sidebar": "Contents",
   "toc_cell": false,
   "toc_position": {},
   "toc_section_display": true,
   "toc_window_display": false
  },
  "varInspector": {
   "cols": {
    "lenName": 16,
    "lenType": 16,
    "lenVar": 40
   },
   "kernels_config": {
    "python": {
     "delete_cmd_postfix": "",
     "delete_cmd_prefix": "del ",
     "library": "var_list.py",
     "varRefreshCmd": "print(var_dic_list())"
    },
    "r": {
     "delete_cmd_postfix": ") ",
     "delete_cmd_prefix": "rm(",
     "library": "var_list.r",
     "varRefreshCmd": "cat(var_dic_list()) "
    }
   },
   "types_to_exclude": [
    "module",
    "function",
    "builtin_function_or_method",
    "instance",
    "_Feature"
   ],
   "window_display": false
  }
 },
 "nbformat": 4,
 "nbformat_minor": 4
}
